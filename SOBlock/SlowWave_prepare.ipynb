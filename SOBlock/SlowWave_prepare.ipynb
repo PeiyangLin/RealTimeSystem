{
 "cells": [
  {
   "cell_type": "code",
   "execution_count": 1,
   "id": "initial_id",
   "metadata": {
    "collapsed": true,
    "ExecuteTime": {
     "end_time": "2023-10-23T10:52:56.645853500Z",
     "start_time": "2023-10-23T10:52:51.045856100Z"
    }
   },
   "outputs": [
    {
     "name": "stderr",
     "output_type": "stream",
     "text": [
      "C:\\Users\\Origin\\AppData\\Roaming\\Python\\Python38\\site-packages\\antropy\\fractal.py:197: NumbaDeprecationWarning: \u001B[1mThe 'nopython' keyword argument was not supplied to the 'numba.jit' decorator. The implicit default value for this argument is currently False, but it will be changed to True in Numba 0.59.0. See https://numba.readthedocs.io/en/stable/reference/deprecation.html#deprecation-of-object-mode-fall-back-behaviour-when-using-jit for details.\u001B[0m\n",
      "  @jit((types.Array(types.float64, 1, \"C\", readonly=True), types.int32))\n"
     ]
    }
   ],
   "source": [
    "import numpy as np\n",
    "import pandas as pd\n",
    "from scipy import signal\n",
    "import mne\n",
    "import yasa\n",
    "import matplotlib.pyplot as plt"
   ]
  },
  {
   "cell_type": "code",
   "execution_count": 3,
   "outputs": [
    {
     "name": "stderr",
     "output_type": "stream",
     "text": [
      "C:\\Users\\Origin\\AppData\\Local\\Temp\\ipykernel_36732\\45790364.py:18: UserWarning: The filter's denominator is extremely small at frequencies [0.000],             around which a singularity may be present\n",
      "  w, gd = signal.group_delay((b, a), w=500, fs=500)\n"
     ]
    }
   ],
   "source": [
    "def Filter_init(l_freq_p=0.5, h_freq_p=4, l_freq_s=0.1, h_freq_s=5, fs=500, order=2):\n",
    "    LowPassFre = h_freq_p\n",
    "    HighPassFre = l_freq_p\n",
    "\n",
    "    h_freq_p = h_freq_p * 2 / fs\n",
    "    l_freq_p = l_freq_p * 2 / fs\n",
    "    wp = [l_freq_p, h_freq_p]\n",
    "\n",
    "    h_freq_s = h_freq_s * 2 / fs\n",
    "    l_freq_s = l_freq_s * 2 / fs\n",
    "    ws = [l_freq_s, h_freq_s]\n",
    "\n",
    "    N, wn = signal.buttord(wp, ws, 5, 40)\n",
    "    N = order\n",
    "\n",
    "    b, a = signal.butter(N, wn, \"bandpass\")\n",
    "\n",
    "    w, gd = signal.group_delay((b, a), w=500, fs=500)\n",
    "\n",
    "    Filter_Delay = np.mean(gd[np.min(np.where(w > HighPassFre)): np.max(np.where(w < LowPassFre))])\n",
    "\n",
    "    Filter_Delay = round(Filter_Delay) // 2\n",
    "\n",
    "    delay = np.zeros(Filter_Delay, dtype=np.float64)\n",
    "\n",
    "    return b, a, N, Filter_Delay, delay\n",
    "b, a, N, Filter_Delay, delay = Filter_init(0.5, 4, 0.1, 5, 500, 2)"
   ],
   "metadata": {
    "collapsed": false,
    "ExecuteTime": {
     "end_time": "2023-10-23T10:53:11.354845900Z",
     "start_time": "2023-10-23T10:53:11.318849300Z"
    }
   },
   "id": "7609d63c95c3d100"
  },
  {
   "cell_type": "code",
   "execution_count": 43,
   "outputs": [],
   "source": [
    "def SO_filter(b, a, x):\n",
    "    y = signal.filtfilt(b, a, x)\n",
    "    return y"
   ],
   "metadata": {
    "collapsed": false,
    "ExecuteTime": {
     "end_time": "2023-10-23T11:36:48.303256Z",
     "start_time": "2023-10-23T11:36:48.259252300Z"
    }
   },
   "id": "661c0a590b0f0343"
  },
  {
   "cell_type": "code",
   "execution_count": null,
   "outputs": [],
   "source": [
    "def total_analysis(dataSet, fs=500):\n",
    "    down_min_set = []\n",
    "    up_max_set = []\n",
    "    down_duration_set = []\n",
    "    up_duration_set = []\n",
    "    for i in range(len(dataSet)):\n",
    "        data = dataSet[i]\n",
    "        down_min = min(data[:fs])\n",
    "        up_max = max(data[fs:])\n",
    "        down_duration = 0.\n",
    "        up_duration = 0.\n",
    "        \n",
    "        for j in range(fs-1):\n",
    "            if data[j] * data[j + 1] <= 0 <= data[j]:\n",
    "                down_duration = (fs - j) / fs\n",
    "                break\n",
    "            \n",
    "        for j in range(fs-1):\n",
    "            if data[fs+j] * data[fs+j+1] <= 0 and data[fs+j] >= 0:\n",
    "                up_duration = j / fs\n",
    "                break\n",
    "        \n",
    "        down_min_set.append(down_min)\n",
    "        up_max_set.append(up_max)\n",
    "        down_duration_set.append(down_duration)\n",
    "        up_duration_set.append(up_duration)"
   ],
   "metadata": {
    "collapsed": false
   },
   "id": "e26a44380ffb38c3"
  },
  {
   "cell_type": "code",
   "execution_count": 116,
   "outputs": [],
   "source": [
    "def avg_analysis(data, fs=500):\n",
    "    down_min = min(data[:fs])\n",
    "    up_max = max(data[fs:])\n",
    "    down_duration = 0.\n",
    "    up_duration = 0.\n",
    "    \n",
    "    for i in range(fs-1):\n",
    "        if data[i] * data[i + 1] <= 0 <= data[i]:\n",
    "            down_duration = (fs - i) / fs\n",
    "            break\n",
    "    \n",
    "    for i in range(fs-1):\n",
    "        if data[fs+i] * data[fs+i+1] <= 0 and data[fs+i] >= 0:\n",
    "            up_duration = i / fs\n",
    "            break\n",
    "    \n",
    "    print(\"Minimum of down state: %.3fuV\" % down_min)\n",
    "    print(\"Maximum of up state: %.3fuV\" % up_max)\n",
    "    print(\"Duration of down state: %.1fms\" % (down_duration * 1000))\n",
    "    print(\"Duration of up state: %.1fms\" % (up_duration * 1000))\n",
    "    print()\n",
    "    \n",
    "    return down_min, up_max, down_duration, up_duration\n",
    "    "
   ],
   "metadata": {
    "collapsed": false,
    "ExecuteTime": {
     "end_time": "2023-10-23T12:03:00.297414500Z",
     "start_time": "2023-10-23T12:03:00.279412800Z"
    }
   },
   "id": "2477346def00e107"
  },
  {
   "cell_type": "code",
   "execution_count": 72,
   "outputs": [],
   "source": [
    "subject = \"41-2023_09_26-LiJinyu-Female\"\n",
    "Amplifier = \"BP\"\n",
    "pick_channel = \"C3\"\n",
    "ref_channel = \"M2\"\n",
    "fs = 500"
   ],
   "metadata": {
    "collapsed": false,
    "ExecuteTime": {
     "end_time": "2023-10-23T11:41:00.041861Z",
     "start_time": "2023-10-23T11:40:59.999839Z"
    }
   },
   "id": "b7aff422554c4fbc"
  },
  {
   "cell_type": "code",
   "execution_count": 73,
   "outputs": [],
   "source": [
    "SaveLabel = \"F:/%s\" % subject\n",
    "dataPath = SaveLabel + \"/Sleep.vhdr\"\n",
    "if Amplifier == \"ANT\":\n",
    "    C3 = 14  # C3 channel index in amplifier\n",
    "    M2 = 18  # M2 channel index in amplifier\n",
    "    EOG = 70  # EOG channel index in amplifier\n",
    "    EMG = 71  # EMG channel index in amplifier\n",
    "    EMGREF = 0  # EMGREF channel index in amplifier\n",
    "elif Amplifier == \"BP\":\n",
    "    C3 = 4  # C3 channel index in amplifier\n",
    "    M2 = 31  # M2 channel index in amplifier\n",
    "    EOG = 57  # EOG channel index in amplifier\n",
    "    EMG = 52  # EMG channel index in amplifier\n",
    "    EMGREF = 0  # EMGREF channel index in amplifier"
   ],
   "metadata": {
    "collapsed": false,
    "ExecuteTime": {
     "end_time": "2023-10-23T11:41:00.232909500Z",
     "start_time": "2023-10-23T11:41:00.216905900Z"
    }
   },
   "id": "b4e085428f3fb1ec"
  },
  {
   "cell_type": "code",
   "execution_count": 90,
   "outputs": [
    {
     "name": "stdout",
     "output_type": "stream",
     "text": [
      "Extracting parameters from F:/41-2023_09_26-LiJinyu-Female/Sleep.vhdr...\n",
      "Setting channel info structure...\n",
      "Reading 0 ... 13859379  =      0.000 ... 27718.758 secs...\n",
      "EEG channel type selected for re-referencing\n",
      "Applying a custom ('EEG',) reference.\n",
      "Filtering raw data in 1 contiguous segment\n",
      "Setting up band-pass filter from 0.1 - 40 Hz\n",
      "\n",
      "FIR filter parameters\n",
      "---------------------\n",
      "Designing a one-pass, zero-phase, non-causal bandpass filter:\n",
      "- Windowed time-domain design (firwin) method\n",
      "- Hamming window with 0.0194 passband ripple and 53 dB stopband attenuation\n",
      "- Lower passband edge: 0.10\n",
      "- Lower transition bandwidth: 0.10 Hz (-6 dB cutoff frequency: 0.05 Hz)\n",
      "- Upper passband edge: 40.00 Hz\n",
      "- Upper transition bandwidth: 10.00 Hz (-6 dB cutoff frequency: 45.00 Hz)\n",
      "- Filter length: 16501 samples (33.002 sec)\n"
     ]
    },
    {
     "name": "stderr",
     "output_type": "stream",
     "text": [
      "[Parallel(n_jobs=1)]: Using backend SequentialBackend with 1 concurrent workers.\n",
      "[Parallel(n_jobs=1)]: Done   1 out of   1 | elapsed:    0.2s remaining:    0.0s\n",
      "[Parallel(n_jobs=1)]: Done   2 out of   2 | elapsed:    0.5s remaining:    0.0s\n",
      "[Parallel(n_jobs=1)]: Done   2 out of   2 | elapsed:    0.5s finished\n"
     ]
    },
    {
     "data": {
      "text/plain": "<RawBrainVision | Sleep.eeg, 1 x 13859380 (27718.8 s), ~105.7 MB, data loaded>",
      "text/html": "<table class=\"table table-hover table-striped table-sm table-responsive small\">\n    <tr>\n        <th>Measurement date</th>\n        \n        <td>September 26, 2023  23:23:30 GMT</td>\n        \n    </tr>\n    <tr>\n        <th>Experimenter</th>\n        \n        <td>Unknown</td>\n        \n    </tr>\n        <th>Participant</th>\n        \n        <td>Unknown</td>\n        \n    </tr>\n    <tr>\n        <th>Digitized points</th>\n        \n        <td>Not available</td>\n        \n    </tr>\n    <tr>\n        <th>Good channels</th>\n        <td>1 EEG</td>\n    </tr>\n    <tr>\n        <th>Bad channels</th>\n        <td>None</td>\n    </tr>\n    <tr>\n        <th>EOG channels</th>\n        <td>Not available</td>\n    </tr>\n    <tr>\n        <th>ECG channels</th>\n        <td>Not available</td>\n    \n    <tr>\n        <th>Sampling frequency</th>\n        <td>500.00 Hz</td>\n    </tr>\n    \n    \n    <tr>\n        <th>Highpass</th>\n        <td>0.10 Hz</td>\n    </tr>\n    \n    \n    <tr>\n        <th>Lowpass</th>\n        <td>40.00 Hz</td>\n    </tr>\n    \n    \n    \n    <tr>\n        <th>Filenames</th>\n        <td>Sleep.eeg</td>\n    </tr>\n    \n    <tr>\n        <th>Duration</th>\n        <td>07:41:58 (HH:MM:SS)</td>\n    </tr>\n</table>"
     },
     "execution_count": 90,
     "metadata": {},
     "output_type": "execute_result"
    }
   ],
   "source": [
    "raw = mne.io.read_raw_brainvision(dataPath, preload=True)\n",
    "raw.pick([pick_channel, ref_channel])\n",
    "raw.set_eeg_reference([ref_channel])\n",
    "raw.filter(0.1, 40)\n",
    "raw.pick([pick_channel])"
   ],
   "metadata": {
    "collapsed": false,
    "ExecuteTime": {
     "end_time": "2023-10-23T11:50:49.097888200Z",
     "start_time": "2023-10-23T11:50:37.953893600Z"
    }
   },
   "id": "a2e53ec68ca19582"
  },
  {
   "cell_type": "code",
   "execution_count": 91,
   "outputs": [
    {
     "name": "stderr",
     "output_type": "stream",
     "text": [
      "[Parallel(n_jobs=1)]: Using backend SequentialBackend with 1 concurrent workers.\n",
      "[Parallel(n_jobs=1)]: Done   1 out of   1 | elapsed:    0.2s remaining:    0.0s\n",
      "[Parallel(n_jobs=1)]: Done   1 out of   1 | elapsed:    0.2s finished\n"
     ]
    }
   ],
   "source": [
    "# sw = yasa.sw_detect(data=raw, sf=500, ch_names=[\"C3\"], freq_sw=[0.5, 4], amp_neg=[40, 200], amp_pos=[10, 150])\n",
    "sw = yasa.sw_detect(data=raw, sf=500, ch_names=[\"C3\"])\n",
    "slow_Wave_offline = sw.summary()\n",
    "\n",
    "onset = np.array(slow_Wave_offline[\"Start\"]) * fs\n",
    "onset = onset.astype(int)\n",
    "\n",
    "duration = np.array(slow_Wave_offline[\"Duration\"]) * fs\n",
    "duration = duration.astype(int)\n",
    "\n",
    "offline_description = []\n",
    "for i in range(len(slow_Wave_offline[\"Start\"])):\n",
    "    offline_description.append(\"SO_yasa\")"
   ],
   "metadata": {
    "collapsed": false,
    "ExecuteTime": {
     "end_time": "2023-10-23T11:50:50.313888200Z",
     "start_time": "2023-10-23T11:50:49.100889400Z"
    }
   },
   "id": "9c8a3ce5dc9436da"
  },
  {
   "cell_type": "code",
   "execution_count": 92,
   "outputs": [],
   "source": [
    "data, _ = raw[:]\n",
    "data = data[0] * 1e6\n",
    "data_filt = SO_filter(b, a, data)"
   ],
   "metadata": {
    "collapsed": false,
    "ExecuteTime": {
     "end_time": "2023-10-23T11:50:53.904907Z",
     "start_time": "2023-10-23T11:50:53.619906800Z"
    }
   },
   "id": "5671a8efa5216115"
  },
  {
   "cell_type": "code",
   "execution_count": 93,
   "outputs": [
    {
     "name": "stdout",
     "output_type": "stream",
     "text": [
      "(1329, 1000)\n"
     ]
    }
   ],
   "source": [
    "so_wave_set = []\n",
    "so_wave_filt_set = []\n",
    "\n",
    "for i in range(len(onset)):\n",
    "    startPoint = onset[i]\n",
    "    for j in range(duration[i] - 1):\n",
    "        point = startPoint + j\n",
    "        if data_filt[point] * data_filt[point+1] <= 0 and data_filt[point] <= 0:\n",
    "            so_wave = data[point - 500: point + 500]\n",
    "            so_wave_filt = data_filt[point - 500: point + 500]\n",
    "            \n",
    "            so_wave_set.append(so_wave)\n",
    "            so_wave_filt_set.append(so_wave_filt)\n",
    "            break\n",
    "so_wave_set = np.array(so_wave_set)\n",
    "so_wave_filt_set = np.array(so_wave_filt_set)\n",
    "print(so_wave_set.shape)"
   ],
   "metadata": {
    "collapsed": false,
    "ExecuteTime": {
     "end_time": "2023-10-23T11:50:54.546950500Z",
     "start_time": "2023-10-23T11:50:54.391952100Z"
    }
   },
   "id": "cd98977cccdfc910"
  },
  {
   "cell_type": "code",
   "execution_count": 118,
   "outputs": [
    {
     "name": "stdout",
     "output_type": "stream",
     "text": [
      "Minimum of down state: -77.701uV\n",
      "Maximum of up state: 17.673uV\n",
      "Duration of down state: 564.0ms\n",
      "Duration of up state: 496.0ms\n",
      "\n",
      "Minimum of down state: -55.396uV\n",
      "Maximum of up state: 34.365uV\n",
      "Duration of down state: 486.0ms\n",
      "Duration of up state: 578.0ms\n"
     ]
    },
    {
     "data": {
      "text/plain": "(-55.39579195683303, 34.36453916278054, 0.486, 0.578)"
     },
     "execution_count": 118,
     "metadata": {},
     "output_type": "execute_result"
    }
   ],
   "source": [
    "so_wave_avg = np.mean(so_wave_set, axis=0)\n",
    "so_wave_filt_avg = np.mean(so_wave_filt_set, axis=0)\n",
    "avg_analysis(so_wave_avg)\n",
    "avg_analysis(so_wave_filt_avg)"
   ],
   "metadata": {
    "collapsed": false,
    "ExecuteTime": {
     "end_time": "2023-10-23T12:03:07.508248Z",
     "start_time": "2023-10-23T12:03:07.437248500Z"
    }
   },
   "id": "572499c1d6b6c30c"
  },
  {
   "cell_type": "code",
   "execution_count": 117,
   "outputs": [
    {
     "data": {
      "text/plain": "<Figure size 432x288 with 1 Axes>",
      "image/png": "[encoded data removed]"
     },
     "metadata": {
      "needs_background": "light"
     },
     "output_type": "display_data"
    }
   ],
   "source": [
    "t = np.linspace(-1, 1, 1000)\n",
    "plt.plot(t, so_wave_avg)\n",
    "plt.plot(t, so_wave_filt_avg)\n",
    "plt.hlines(0, xmin=-2, xmax=2, colors=\"r\")\n",
    "plt.xlim([-1, 1])\n",
    "plt.legend([\"data_raw\", \"data_filt\"])\n",
    "plt.xlabel(\"time(s)\")\n",
    "plt.ylabel(\"voltage(uV)\")\n",
    "plt.title(\"Mean of slow wave of %s\" % subject)\n",
    "plt.show()"
   ],
   "metadata": {
    "collapsed": false,
    "ExecuteTime": {
     "end_time": "2023-10-23T12:03:05.086018Z",
     "start_time": "2023-10-23T12:03:05.013018100Z"
    }
   },
   "id": "687a0a4d610818f4"
  },
  {
   "cell_type": "code",
   "execution_count": null,
   "outputs": [],
   "source": [],
   "metadata": {
    "collapsed": false
   },
   "id": "d9766e728ed23234"
  }
 ],
 "metadata": {
  "kernelspec": {
   "display_name": "Python 3",
   "language": "python",
   "name": "python3"
  },
  "language_info": {
   "codemirror_mode": {
    "name": "ipython",
    "version": 2
   },
   "file_extension": ".py",
   "mimetype": "text/x-python",
   "name": "python",
   "nbconvert_exporter": "python",
   "pygments_lexer": "ipython2",
   "version": "2.7.6"
  }
 },
 "nbformat": 4,
 "nbformat_minor": 5
}
