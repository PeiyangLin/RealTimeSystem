{
 "cells": [
  {
   "cell_type": "code",
   "execution_count": 1,
   "id": "initial_id",
   "metadata": {
    "collapsed": true,
    "ExecuteTime": {
     "end_time": "2023-10-23T10:22:30.655532100Z",
     "start_time": "2023-10-23T10:22:24.975535900Z"
    }
   },
   "outputs": [
    {
     "name": "stderr",
     "output_type": "stream",
     "text": [
      "C:\\Users\\Origin\\AppData\\Roaming\\Python\\Python38\\site-packages\\antropy\\fractal.py:197: NumbaDeprecationWarning: \u001B[1mThe 'nopython' keyword argument was not supplied to the 'numba.jit' decorator. The implicit default value for this argument is currently False, but it will be changed to True in Numba 0.59.0. See https://numba.readthedocs.io/en/stable/reference/deprecation.html#deprecation-of-object-mode-fall-back-behaviour-when-using-jit for details.\u001B[0m\n",
      "  @jit((types.Array(types.float64, 1, \"C\", readonly=True), types.int32))\n"
     ]
    }
   ],
   "source": [
    "import numpy as np\n",
    "import pandas as pd\n",
    "import mne\n",
    "import yasa\n",
    "from scipy import signal"
   ]
  },
  {
   "cell_type": "code",
   "execution_count": 2,
   "outputs": [
    {
     "name": "stderr",
     "output_type": "stream",
     "text": [
      "C:\\Users\\Origin\\AppData\\Local\\Temp\\ipykernel_44892\\2460382674.py:18: UserWarning: The filter's denominator is extremely small at frequencies [0.000],             around which a singularity may be present\n",
      "  w, gd = signal.group_delay((b, a), w=500, fs=500)\n"
     ]
    }
   ],
   "source": [
    "def Filter_init(l_freq_p=0.5, h_freq_p=4, l_freq_s=0.1, h_freq_s=5, fs=500, order=2):\n",
    "    LowPassFre = h_freq_p\n",
    "    HighPassFre = l_freq_p\n",
    "\n",
    "    h_freq_p = h_freq_p * 2 / fs\n",
    "    l_freq_p = l_freq_p * 2 / fs\n",
    "    wp = [l_freq_p, h_freq_p]\n",
    "\n",
    "    h_freq_s = h_freq_s * 2 / fs\n",
    "    l_freq_s = l_freq_s * 2 / fs\n",
    "    ws = [l_freq_s, h_freq_s]\n",
    "\n",
    "    N, wn = signal.buttord(wp, ws, 5, 40)\n",
    "    N = order\n",
    "\n",
    "    b, a = signal.butter(N, wn, \"bandpass\")\n",
    "\n",
    "    w, gd = signal.group_delay((b, a), w=500, fs=500)\n",
    "\n",
    "    Filter_Delay = np.mean(gd[np.min(np.where(w > HighPassFre)): np.max(np.where(w < LowPassFre))])\n",
    "\n",
    "    Filter_Delay = round(Filter_Delay)\n",
    "    \n",
    "    Filter_Delay = Filter_Delay // 2\n",
    "\n",
    "    delay = np.zeros(Filter_Delay, dtype=np.float64)\n",
    "    \n",
    "\n",
    "    return b, a, N, Filter_Delay, delay\n",
    "\n",
    "b, a, N, Filter_Delay, delay = Filter_init()"
   ],
   "metadata": {
    "collapsed": false,
    "ExecuteTime": {
     "end_time": "2023-10-23T10:22:30.678534500Z",
     "start_time": "2023-10-23T10:22:30.658532400Z"
    }
   },
   "id": "8182c37e43f751f2"
  },
  {
   "cell_type": "code",
   "execution_count": 3,
   "outputs": [],
   "source": [
    "def SO_filter_single(b, a, x):\n",
    "    x = np.concatenate([x, delay])\n",
    "    y = signal.lfilter(b, a, x)\n",
    "    y = y[Filter_Delay:]\n",
    "    return y"
   ],
   "metadata": {
    "collapsed": false,
    "ExecuteTime": {
     "end_time": "2023-10-23T10:22:30.732534200Z",
     "start_time": "2023-10-23T10:22:30.673531600Z"
    }
   },
   "id": "bb151d83d33938f2"
  },
  {
   "cell_type": "code",
   "execution_count": 4,
   "outputs": [],
   "source": [
    "SaveLabel = \"F:/35-2023_10_19-HongJiakang-Female\"\n",
    "dataPath = SaveLabel + \"/Sleep.vhdr\""
   ],
   "metadata": {
    "collapsed": false,
    "ExecuteTime": {
     "end_time": "2023-10-23T10:22:30.746532200Z",
     "start_time": "2023-10-23T10:22:30.688532Z"
    }
   },
   "id": "5da02ee0cac22f8a"
  },
  {
   "cell_type": "code",
   "execution_count": 5,
   "outputs": [
    {
     "name": "stdout",
     "output_type": "stream",
     "text": [
      "Extracting parameters from F:/35-2023_10_19-HongJiakang-Female/Sleep.vhdr...\n",
      "Setting channel info structure...\n",
      "Reading 0 ... 13831879  =      0.000 ... 27663.758 secs...\n"
     ]
    },
    {
     "name": "stderr",
     "output_type": "stream",
     "text": [
      "C:\\Users\\Origin\\AppData\\Roaming\\Python\\Python38\\site-packages\\outdated\\utils.py:14: OutdatedCheckFailedWarning: Failed to check for latest version of package.\n",
      "Set the environment variable OUTDATED_RAISE_EXCEPTION=1 for a full traceback.\n",
      "Set the environment variable OUTDATED_IGNORE=1 to disable these warnings.\n",
      "  return warn(\n"
     ]
    },
    {
     "name": "stdout",
     "output_type": "stream",
     "text": [
      "Filtering raw data in 1 contiguous segment\n",
      "Setting up band-pass filter from 0.1 - 40 Hz\n",
      "\n",
      "FIR filter parameters\n",
      "---------------------\n",
      "Designing a one-pass, zero-phase, non-causal bandpass filter:\n",
      "- Windowed time-domain design (firwin) method\n",
      "- Hamming window with 0.0194 passband ripple and 53 dB stopband attenuation\n",
      "- Lower passband edge: 0.10\n",
      "- Lower transition bandwidth: 0.10 Hz (-6 dB cutoff frequency: 0.05 Hz)\n",
      "- Upper passband edge: 40.00 Hz\n",
      "- Upper transition bandwidth: 10.00 Hz (-6 dB cutoff frequency: 45.00 Hz)\n",
      "- Filter length: 16501 samples (33.002 sec)\n"
     ]
    },
    {
     "name": "stderr",
     "output_type": "stream",
     "text": [
      "[Parallel(n_jobs=1)]: Using backend SequentialBackend with 1 concurrent workers.\n",
      "[Parallel(n_jobs=1)]: Done   1 out of   1 | elapsed:    0.3s remaining:    0.0s\n",
      "[Parallel(n_jobs=1)]: Done   1 out of   1 | elapsed:    0.3s finished\n"
     ]
    }
   ],
   "source": [
    "raw = mne.io.read_raw_brainvision(dataPath, preload=True)\n",
    "raw.pick([\"C3\", \"M2\"])\n",
    "raw.set_eeg_reference([\"M2\"])\n",
    "raw.pick([\"C3\"])\n",
    "raw.filter(0.1, 40)\n",
    "raw._data[0] = raw._data[0] * -1"
   ],
   "metadata": {
    "collapsed": false,
    "ExecuteTime": {
     "end_time": "2023-10-23T10:22:41.210539600Z",
     "start_time": "2023-10-23T10:22:30.704534800Z"
    }
   },
   "id": "851d03f61f8141a3"
  },
  {
   "cell_type": "code",
   "execution_count": 6,
   "outputs": [],
   "source": [
    "real_annotations = raw.annotations\n",
    "real_annotations = pd.DataFrame(real_annotations)\n",
    "real_onset = real_annotations[\"onset\"]\n",
    "real_duration = real_annotations[\"duration\"]\n",
    "real_description = real_annotations[\"description\"]\n",
    "\n",
    "so_onset = []\n",
    "so_duration = []\n",
    "so_description = []\n",
    "\n",
    "for i in range(len(real_description)):\n",
    "    if \"50\" in real_description[i]:\n",
    "        so_onset.append(real_onset[i])\n",
    "        so_duration.append(0.02)\n",
    "        so_description.append(\"SO_real\")"
   ],
   "metadata": {
    "collapsed": false,
    "ExecuteTime": {
     "end_time": "2023-10-20T08:08:23.483534800Z",
     "start_time": "2023-10-20T08:08:19.202827900Z"
    }
   },
   "id": "2a00051a22d1b5a7"
  },
  {
   "cell_type": "code",
   "execution_count": 7,
   "outputs": [
    {
     "name": "stderr",
     "output_type": "stream",
     "text": [
      "C:\\Users\\Liu Lab\\AppData\\Local\\Temp\\ipykernel_12988\\1597458532.py:3: RuntimeWarning: EDF format requires equal-length data blocks, so 0.24 seconds of zeros were appended to all channels when writing the final block.\n",
      "  mne.export.export_raw(SaveLabel + \"/so_real.edf\", raw, fmt=\"edf\")\n"
     ]
    }
   ],
   "source": [
    "annotations_SO_real = mne.Annotations(onset=so_onset, duration=so_duration, description=so_description)\n",
    "raw.set_annotations(annotations_SO_real)\n",
    "mne.export.export_raw(SaveLabel + \"/so_real.edf\", raw, fmt=\"edf\")"
   ],
   "metadata": {
    "collapsed": false,
    "ExecuteTime": {
     "end_time": "2023-10-20T08:08:44.054827200Z",
     "start_time": "2023-10-20T08:08:23.486499900Z"
    }
   },
   "id": "f002d4a877e039c1"
  },
  {
   "cell_type": "code",
   "execution_count": 8,
   "outputs": [
    {
     "name": "stderr",
     "output_type": "stream",
     "text": [
      "C:\\Users\\Liu Lab\\AppData\\Local\\Temp\\ipykernel_12988\\1869503004.py:7: RuntimeWarning: EDF format requires equal-length data blocks, so 0.24 seconds of zeros were appended to all channels when writing the final block.\n",
      "  mne.export.export_raw(SaveLabel + \"/so_simu.edf\", raw, fmt=\"edf\")\n"
     ]
    }
   ],
   "source": [
    "SO_Label = SaveLabel + \"/Annotations_SO.csv\"\n",
    "\n",
    "annotations_SO = pd.read_csv(SO_Label)\n",
    "annotations_so = mne.Annotations(onset=list(annotations_SO[\"onset\"]), duration=list(annotations_SO[\"duration\"]), description=list(annotations_SO[\"description\"]))\n",
    "\n",
    "raw.set_annotations(annotations_so)\n",
    "mne.export.export_raw(SaveLabel + \"/so_simu.edf\", raw, fmt=\"edf\")"
   ],
   "metadata": {
    "collapsed": false,
    "ExecuteTime": {
     "end_time": "2023-10-20T08:09:10.378177700Z",
     "start_time": "2023-10-20T08:08:44.055823900Z"
    }
   },
   "id": "aef314e15f73e5"
  },
  {
   "cell_type": "code",
   "execution_count": 7,
   "outputs": [
    {
     "name": "stderr",
     "output_type": "stream",
     "text": [
      "[Parallel(n_jobs=1)]: Using backend SequentialBackend with 1 concurrent workers.\n",
      "[Parallel(n_jobs=1)]: Done   1 out of   1 | elapsed:    0.2s remaining:    0.0s\n",
      "[Parallel(n_jobs=1)]: Done   1 out of   1 | elapsed:    0.2s finished\n",
      "C:\\Users\\Origin\\AppData\\Local\\Temp\\ipykernel_44892\\3277078547.py:12: RuntimeWarning: EDF format requires equal-length data blocks, so 0.24 seconds of zeros were appended to all channels when writing the final block.\n",
      "  mne.export.export_raw(SaveLabel + \"/so_offline.edf\", raw, fmt=\"edf\")\n"
     ]
    }
   ],
   "source": [
    "sw = yasa.sw_detect(data=raw, sf=500, ch_names=\"C3\", freq_sw=[0.5, 4], amp_neg=[50, 200], amp_pos=[15, 150])\n",
    "slow_Wave_offline = sw.summary()\n",
    "\n",
    "offline_description = []\n",
    "for i in range(len(slow_Wave_offline[\"Start\"])):\n",
    "    offline_description.append(\"SO_yasa\")\n",
    "offline_annotations = {\"onset\": slow_Wave_offline[\"Start\"], \"duration\": slow_Wave_offline[\"Duration\"], \"description\": offline_description}\n",
    "offline_annotations = pd.DataFrame(offline_annotations)\n",
    "annotations_so_offline = mne.Annotations(onset=list(offline_annotations[\"onset\"]), duration=list(offline_annotations[\"duration\"]), description=list(offline_annotations[\"description\"]))\n",
    "\n",
    "raw.set_annotations(annotations_so_offline)\n",
    "mne.export.export_raw(SaveLabel + \"/so_offline.edf\", raw, fmt=\"edf\")"
   ],
   "metadata": {
    "collapsed": false,
    "ExecuteTime": {
     "end_time": "2023-10-23T10:29:20.282278Z",
     "start_time": "2023-10-23T10:28:53.051764500Z"
    }
   },
   "id": "3cd652f59a982e30"
  },
  {
   "cell_type": "code",
   "execution_count": 10,
   "outputs": [
    {
     "name": "stderr",
     "output_type": "stream",
     "text": [
      "C:\\Users\\Liu Lab\\AppData\\Local\\Temp\\ipykernel_12988\\66507233.py:9: RuntimeWarning: EDF format requires equal-length data blocks, so 0.24 seconds of zeros were appended to all channels when writing the final block.\n",
      "  mne.export.export_raw(SaveLabel + \"/so_filt.edf\", raw, fmt=\"edf\")\n"
     ]
    }
   ],
   "source": [
    "raw.set_annotations(None)\n",
    "\n",
    "data, _ = raw[:]\n",
    "data = data[0]\n",
    "data = signal.filtfilt(b, a, data)\n",
    "\n",
    "raw._data[0] = data\n",
    "\n",
    "mne.export.export_raw(SaveLabel + \"/so_filt.edf\", raw, fmt=\"edf\")"
   ],
   "metadata": {
    "collapsed": false,
    "ExecuteTime": {
     "end_time": "2023-10-20T08:10:17.142506600Z",
     "start_time": "2023-10-20T08:09:56.188321700Z"
    }
   },
   "id": "d695dcd967bfa16b"
  },
  {
   "cell_type": "code",
   "execution_count": null,
   "outputs": [],
   "source": [],
   "metadata": {
    "collapsed": false
   },
   "id": "52a36be9535212e3"
  },
  {
   "cell_type": "code",
   "execution_count": null,
   "outputs": [],
   "source": [],
   "metadata": {
    "collapsed": false
   },
   "id": "d22fba7cf0ffb0ee"
  }
 ],
 "metadata": {
  "kernelspec": {
   "display_name": "Python 3",
   "language": "python",
   "name": "python3"
  },
  "language_info": {
   "codemirror_mode": {
    "name": "ipython",
    "version": 2
   },
   "file_extension": ".py",
   "mimetype": "text/x-python",
   "name": "python",
   "nbconvert_exporter": "python",
   "pygments_lexer": "ipython2",
   "version": "2.7.6"
  }
 },
 "nbformat": 4,
 "nbformat_minor": 5
}
